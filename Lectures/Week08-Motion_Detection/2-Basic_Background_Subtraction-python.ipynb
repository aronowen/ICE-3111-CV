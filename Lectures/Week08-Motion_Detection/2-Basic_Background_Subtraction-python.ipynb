{
 "cells": [
  {
   "cell_type": "markdown",
   "metadata": {},
   "source": [
    "## **Basic** Background Subtraction using [OpenCV](https://www.opencv.org/)"
   ]
  },
  {
   "cell_type": "markdown",
   "metadata": {},
   "source": [
    "![Screenshot](screenshot.png)"
   ]
  },
  {
   "cell_type": "markdown",
   "metadata": {},
   "source": [
    "## Package inclusion for Python"
   ]
  },
  {
   "cell_type": "code",
   "execution_count": 1,
   "metadata": {},
   "outputs": [],
   "source": [
    "import numpy as np\n",
    "import cv2"
   ]
  },
  {
   "cell_type": "markdown",
   "metadata": {},
   "source": [
    "## Open the webcam"
   ]
  },
  {
   "cell_type": "markdown",
   "metadata": {},
   "source": [
    "We are going to use the [`cv2.VideoCapture` class](https://docs.opencv.org/master/d8/dfe/classcv_1_1VideoCapture.html) to grab frames from the webcam."
   ]
  },
  {
   "cell_type": "code",
   "execution_count": 2,
   "metadata": {},
   "outputs": [],
   "source": [
    "# Open the default camera (see the 0 below)\n",
    "video_input = cv2.VideoCapture(0)\n",
    "\n",
    "# Check VideoCapture\n",
    "if not video_input.isOpened():\n",
    "    raise IOError(\"OpenCV found no webcam, the program will terminate\")"
   ]
  },
  {
   "cell_type": "markdown",
   "metadata": {},
   "source": [
    "## Display the images from the camera"
   ]
  },
  {
   "cell_type": "markdown",
   "metadata": {},
   "source": [
    "We create a window to display the images from the webcam"
   ]
  },
  {
   "cell_type": "code",
   "execution_count": 3,
   "metadata": {},
   "outputs": [],
   "source": [
    "cv2.namedWindow(\"Webcam\", cv2.WINDOW_GUI_EXPANDED) # Create a window\n",
    "cv2.namedWindow(\"Background\", cv2.WINDOW_GUI_EXPANDED) # Create a window\n",
    "cv2.namedWindow(\"Absolute difference\", cv2.WINDOW_GUI_EXPANDED) # Create a window\n",
    "cv2.namedWindow(\"Foreground mask\", cv2.WINDOW_GUI_EXPANDED) # Create a window\n",
    "cv2.namedWindow(\"Foreground\", cv2.WINDOW_GUI_EXPANDED) # Create a window"
   ]
  },
  {
   "cell_type": "markdown",
   "metadata": {},
   "source": [
    "We display the images in a loop. We also need the background. We pick up the backbround by pressing the 'b' key on the keyboard."
   ]
  },
  {
   "cell_type": "markdown",
   "metadata": {},
   "source": [
    "We'll perform the background subtraction using an absolute difference between the background and the incoming frame. Then, we apply a threshold. It creates a binary mask of the foreground. We write the background subtraction as a function. But first, as we'll create a binary mask, I want to do some cleaning using mathematical morphology and use it via a new function."
   ]
  },
  {
   "cell_type": "code",
   "execution_count": 4,
   "metadata": {},
   "outputs": [],
   "source": [
    "def cleanBinaryImage(aBinaryImage: np.array, elementSize: int=5) -> np.array:\n",
    "\n",
    "    element = cv2.getStructuringElement(cv2.MORPH_ELLIPSE,\n",
    "                        (elementSize, elementSize))\n",
    "    \n",
    "    output = cv2.morphologyEx(aBinaryImage, cv2.MORPH_CLOSE, element)\n",
    "    output = cv2.morphologyEx(aBinaryImage, cv2.MORPH_OPEN, element)\n",
    "\n",
    "    return output;"
   ]
  },
  {
   "cell_type": "code",
   "execution_count": 5,
   "metadata": {},
   "outputs": [],
   "source": [
    "def getForegroundMask(aBackground: np.array, aNewFrame: np.array, aThreshold: int=128) -> np.array:\n",
    "\n",
    "    # Convert in greyscale\n",
    "    grey_frame = cv2.cvtColor(aNewFrame, cv2.COLOR_BGR2GRAY)\n",
    "    \n",
    "    # Blur the image a bit\n",
    "    grey_frame = cv2.medianBlur(grey_frame, 5)\n",
    "\n",
    "    # Convert to float32\n",
    "    grey_frame = grey_frame.astype(np.single)\n",
    "\n",
    "    # Compute the foreground as the absolute difference\n",
    "    foreground = aBackground - grey_frame;\n",
    "    foreground = np.abs(foreground)\n",
    "    \n",
    "    # Normalise the foreground\n",
    "    norm = np.zeros(foreground.shape)\n",
    "    foreground = cv2.normalize(foreground, norm, 0, 255, cv2.NORM_MINMAX, cv2.CV_8UC1)\n",
    "\n",
    "    # Display the foreground\n",
    "    cv2.imshow(\"Absolute difference\", foreground);\n",
    "\n",
    "    # Apply a threshold to generate the foreground mask\n",
    "    foreground_mask = cv2.threshold(foreground, aThreshold, 255, cv2.THRESH_BINARY)[1]\n",
    "\n",
    "    # Use mathematical morphology to clean the binary image\n",
    "    foreground_mask = cleanBinaryImage(foreground_mask, 15)\n",
    "\n",
    "    # Display the foreground mask\n",
    "    cv2.imshow(\"Foreground mask\", foreground_mask)\n",
    "\n",
    "    # Return the mask\n",
    "    return foreground_mask.astype(np.uint8)"
   ]
  },
  {
   "cell_type": "markdown",
   "metadata": {},
   "source": [
    "As we'll use a threshold, I'll add a trackbar to control it."
   ]
  },
  {
   "cell_type": "code",
   "execution_count": 6,
   "metadata": {},
   "outputs": [],
   "source": [
    "def callback(value: int):\n",
    "    global threshold_value\n",
    "    threshold_value = value"
   ]
  },
  {
   "cell_type": "code",
   "execution_count": 7,
   "metadata": {},
   "outputs": [
    {
     "name": "stderr",
     "output_type": "stream",
     "text": [
      "[ WARN:0] global /home/conda/feedstock_root/build_artifacts/libopencv_1633800893877/work/modules/highgui/src/window.cpp (703) createTrackbar UI/Trackbar(Threshold: @Foreground mask): Using 'value' pointer is unsafe and deprecated. Use NULL as value pointer. To fetch trackbar value setup callback.\n"
     ]
    }
   ],
   "source": [
    "threshold_value = 128;\n",
    "cv2.createTrackbar(\"Threshold: \", \"Foreground mask\", threshold_value, 255, callback)"
   ]
  },
  {
   "cell_type": "code",
   "execution_count": 8,
   "metadata": {},
   "outputs": [],
   "source": [
    "key = -1\n",
    "background = None\n",
    "\n",
    "while key != 27 and key != 'q':\n",
    "\n",
    "    # Grab a new frame\n",
    "    ret, frame = video_input.read()\n",
    "\n",
    "    # Make sure everything went well\n",
    "    if frame is None:\n",
    "        video_input.release() # We are now done with the camera, stop it\n",
    "        raise IOError(\"OpenCV cannot grab a new frame from the camera, the program will terminate\")\n",
    "       \n",
    "    # Display the image\n",
    "    cv2.imshow(\"Webcam\", frame)\n",
    "\n",
    "    # This is the background\n",
    "    if key == 'b' or key == 98:\n",
    "\n",
    "        background = frame\n",
    "        background = cv2.cvtColor(background, cv2.COLOR_BGR2GRAY)\n",
    "        cv2.imshow(\"Background\", background)\n",
    "        background = cv2.medianBlur(background, 5)\n",
    "        background = background.astype(np.single)\n",
    "\n",
    "    # This is not the background\n",
    "    else:\n",
    "\n",
    "        # The background exists\n",
    "        if background is not None:\n",
    "\n",
    "            # Update the threshold\n",
    "            foreground_mask = getForegroundMask(background, frame, threshold_value)\n",
    "\n",
    "            # Apply the foreground mask\n",
    "            foreground_mask = cv2.cvtColor(foreground_mask, cv2.COLOR_GRAY2BGR)\n",
    "            clean = cv2.bitwise_and(foreground_mask, frame)\n",
    "            cv2.imshow(\"Foreground\", clean);\n",
    "\n",
    "    key = cv2.waitKey(1)"
   ]
  },
  {
   "cell_type": "markdown",
   "metadata": {},
   "source": [
    "We don't need the window, destroy it"
   ]
  },
  {
   "cell_type": "code",
   "execution_count": 9,
   "metadata": {},
   "outputs": [],
   "source": [
    "cv2.destroyAllWindows() # Destroy all the created windows"
   ]
  },
  {
   "cell_type": "markdown",
   "metadata": {},
   "source": [
    "We are now done with the camera, stop it"
   ]
  },
  {
   "cell_type": "code",
   "execution_count": 10,
   "metadata": {},
   "outputs": [],
   "source": [
    "video_input.release()"
   ]
  }
 ],
 "metadata": {
  "kernelspec": {
   "display_name": "Python 3 (ipykernel)",
   "language": "python",
   "name": "python3"
  },
  "language_info": {
   "codemirror_mode": {
    "name": "ipython",
    "version": 3
   },
   "file_extension": ".py",
   "mimetype": "text/x-python",
   "name": "python",
   "nbconvert_exporter": "python",
   "pygments_lexer": "ipython3",
   "version": "3.9.7"
  }
 },
 "nbformat": 4,
 "nbformat_minor": 4
}
