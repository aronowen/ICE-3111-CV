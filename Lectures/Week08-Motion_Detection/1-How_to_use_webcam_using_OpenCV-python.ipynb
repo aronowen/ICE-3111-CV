{
 "cells": [
  {
   "cell_type": "markdown",
   "metadata": {},
   "source": [
    "## How to use a webcam using [OpenCV](https://www.opencv.org/)"
   ]
  },
  {
   "cell_type": "markdown",
   "metadata": {},
   "source": [
    "## Package inclusion for Python"
   ]
  },
  {
   "cell_type": "code",
   "execution_count": 1,
   "metadata": {},
   "outputs": [],
   "source": [
    "import numpy as np\n",
    "import cv2"
   ]
  },
  {
   "cell_type": "markdown",
   "metadata": {},
   "source": [
    "## Open the webcam"
   ]
  },
  {
   "cell_type": "markdown",
   "metadata": {},
   "source": [
    "We are going to use the [`cv2.VideoCapture` class](https://docs.opencv.org/master/d8/dfe/classcv_1_1VideoCapture.html) to grab frames from the webcam."
   ]
  },
  {
   "cell_type": "code",
   "execution_count": 2,
   "metadata": {},
   "outputs": [],
   "source": [
    "# Open the default camera (see the 0 below)\n",
    "video_input = cv2.VideoCapture(0)\n",
    "\n",
    "# Check VideoCapture.\n",
    "if not video_input.isOpened():\n",
    "    raise IOError(\"OpenCV found no webcam, the program will terminate\")"
   ]
  },
  {
   "cell_type": "markdown",
   "metadata": {},
   "source": [
    "## Display the images from the camera"
   ]
  },
  {
   "cell_type": "markdown",
   "metadata": {},
   "source": [
    "We create a window to display the images from the webcam"
   ]
  },
  {
   "cell_type": "code",
   "execution_count": 3,
   "metadata": {},
   "outputs": [],
   "source": [
    "cv2.namedWindow(\"Webcam\", cv2.WINDOW_GUI_EXPANDED); # Create a window"
   ]
  },
  {
   "cell_type": "markdown",
   "metadata": {},
   "source": [
    "We display the images in a loop"
   ]
  },
  {
   "cell_type": "code",
   "execution_count": 4,
   "metadata": {},
   "outputs": [],
   "source": [
    "key = -1\n",
    "while key != 27 and key != 'q':\n",
    "\n",
    "    # Grab a new frame\n",
    "    ret, frame = video_input.read()\n",
    "\n",
    "    # Make sure everything went well\n",
    "    if frame is None:\n",
    "        video_input.release() # We are now done with the camera, stop it\n",
    "        raise IOError(\"OpenCV cannot grab a new frame from the camera, the program will terminate\")\n",
    "       \n",
    "    # Display the image\n",
    "    cv2.imshow(\"Webcam\", frame)\n",
    "    \n",
    "    key = cv2.waitKey(1);"
   ]
  },
  {
   "cell_type": "markdown",
   "metadata": {},
   "source": [
    "![The window](./output.gif)"
   ]
  },
  {
   "cell_type": "markdown",
   "metadata": {},
   "source": [
    "We don't need the window, destroy it"
   ]
  },
  {
   "cell_type": "code",
   "execution_count": 5,
   "metadata": {},
   "outputs": [],
   "source": [
    "cv2.destroyAllWindows() # Destroy all the created windows"
   ]
  },
  {
   "cell_type": "markdown",
   "metadata": {},
   "source": [
    "We are now done with the camera, stop it"
   ]
  },
  {
   "cell_type": "code",
   "execution_count": 6,
   "metadata": {},
   "outputs": [],
   "source": [
    "video_input.release();"
   ]
  },
  {
   "cell_type": "markdown",
   "metadata": {},
   "source": [
    "## Saving a video"
   ]
  },
  {
   "cell_type": "markdown",
   "metadata": {},
   "source": [
    "First we open the webcam"
   ]
  },
  {
   "cell_type": "code",
   "execution_count": 7,
   "metadata": {},
   "outputs": [],
   "source": [
    "# Open the default camera (see the 0 below)\n",
    "video_input = cv2.VideoCapture(0);\n",
    "\n",
    "# Check VideoCapture\n",
    "if not video_input.isOpened():\n",
    "    raise IOError(\"OpenCV found no webcam, the program will terminate\")"
   ]
  },
  {
   "cell_type": "markdown",
   "metadata": {},
   "source": [
    "We are going to use the [`cv::VideoWriter` class](https://docs.opencv.org/master/dd/d9e/classcv_1_1VideoWriter.html) to save the frames grab with the webcam."
   ]
  },
  {
   "cell_type": "markdown",
   "metadata": {},
   "source": [
    "We grab a frame to know its size."
   ]
  },
  {
   "cell_type": "code",
   "execution_count": 8,
   "metadata": {},
   "outputs": [],
   "source": [
    "# Grab a new frame\n",
    "ret, frame = video_input.read()"
   ]
  },
  {
   "cell_type": "markdown",
   "metadata": {},
   "source": [
    "To create a new instance of [`cv::VideoWriter` class](https://docs.opencv.org/master/dd/d9e/classcv_1_1VideoWriter.html), we must set the name of the output file, the video CODEC to encode the images, the number of frames per second (FPS) and the image size."
   ]
  },
  {
   "cell_type": "markdown",
   "metadata": {},
   "source": [
    "Retrieve the FPS from the webcam"
   ]
  },
  {
   "cell_type": "code",
   "execution_count": 9,
   "metadata": {},
   "outputs": [],
   "source": [
    "FPS = video_input.get(cv2.CAP_PROP_FPS)"
   ]
  },
  {
   "cell_type": "markdown",
   "metadata": {},
   "source": [
    "However, sometimes it may not work, and we may have to force another value, e.g. 30."
   ]
  },
  {
   "cell_type": "code",
   "execution_count": 10,
   "metadata": {},
   "outputs": [],
   "source": [
    "if FPS == 0: # If it has failed, use 30\n",
    "    FPS = 30"
   ]
  },
  {
   "cell_type": "markdown",
   "metadata": {},
   "source": [
    "Compute the time delay between two successive frames in seconds"
   ]
  },
  {
   "cell_type": "code",
   "execution_count": 11,
   "metadata": {},
   "outputs": [],
   "source": [
    "frame_delay_in_sec = 1.0 / FPS"
   ]
  },
  {
   "cell_type": "markdown",
   "metadata": {},
   "source": [
    "Compute the time delay between two successive frames in milliseconds"
   ]
  },
  {
   "cell_type": "code",
   "execution_count": 12,
   "metadata": {},
   "outputs": [],
   "source": [
    "frame_delay_in_ms = int(frame_delay_in_sec  * 1000)"
   ]
  },
  {
   "cell_type": "code",
   "execution_count": 13,
   "metadata": {},
   "outputs": [],
   "source": [
    "video_output = cv2.VideoWriter(\"output.avi\",\n",
    "                               cv2.VideoWriter_fourcc('M','J','P','G'),\n",
    "                               FPS,\n",
    "                               (frame.shape[1], frame.shape[0]))"
   ]
  },
  {
   "cell_type": "markdown",
   "metadata": {},
   "source": [
    "Check if the video writer is open"
   ]
  },
  {
   "cell_type": "code",
   "execution_count": 14,
   "metadata": {},
   "outputs": [],
   "source": [
    "if not video_output.isOpened():\n",
    "    raise IOError(\"Cannot open the video output\")"
   ]
  },
  {
   "cell_type": "markdown",
   "metadata": {},
   "source": [
    "Run the loop to grab and save the images"
   ]
  },
  {
   "cell_type": "code",
   "execution_count": 15,
   "metadata": {},
   "outputs": [],
   "source": [
    "cv2.namedWindow(\"Webcam\", cv2.WINDOW_GUI_EXPANDED) # Create a window\n",
    "\n",
    "key = -1\n",
    "while key != 27 and key != 'q':\n",
    "\n",
    "    # Grab a new frame\n",
    "    ret, frame = video_input.read()\n",
    "\n",
    "    # Make sure everything went well\n",
    "    if frame is None:\n",
    "        video_input.release() # We are now done with the camera, stop it\n",
    "        raise IOError(\"OpenCV cannot grab a new frame from the camera, the program will terminate\")\n",
    "    \n",
    "    # Display the image\n",
    "    cv2.imshow(\"Webcam\", frame)\n",
    "    \n",
    "    # Save the frame in the output file\n",
    "    video_output.write(frame)    \n",
    "    \n",
    "    # Wait for a keystroke or the time delay\n",
    "    key = cv2.waitKey(int(frame_delay_in_ms))"
   ]
  },
  {
   "cell_type": "code",
   "execution_count": 16,
   "metadata": {},
   "outputs": [],
   "source": [
    "cv2.destroyAllWindows() # Destroy all the created windows\n",
    "video_input.release() # We are now done with the camera, stop it\n",
    "video_output.release() # We are now done with the video output, stop it"
   ]
  },
  {
   "cell_type": "markdown",
   "metadata": {},
   "source": [
    "Play the video [output.avi](./output.avi)"
   ]
  }
 ],
 "metadata": {
  "kernelspec": {
   "display_name": "Python 3 (ipykernel)",
   "language": "python",
   "name": "python3"
  },
  "language_info": {
   "codemirror_mode": {
    "name": "ipython",
    "version": 3
   },
   "file_extension": ".py",
   "mimetype": "text/x-python",
   "name": "python",
   "nbconvert_exporter": "python",
   "pygments_lexer": "ipython3",
   "version": "3.9.7"
  }
 },
 "nbformat": 4,
 "nbformat_minor": 4
}
