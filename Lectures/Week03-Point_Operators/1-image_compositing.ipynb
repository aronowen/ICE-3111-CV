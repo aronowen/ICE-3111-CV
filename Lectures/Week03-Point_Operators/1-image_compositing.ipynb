{
 "cells": [
  {
   "cell_type": "markdown",
   "metadata": {},
   "source": [
    "## How to use a webcam using [OpenCV](https://www.opencv.org/)"
   ]
  },
  {
   "cell_type": "markdown",
   "metadata": {},
   "source": [
    "## Package inclusion for Python"
   ]
  },
  {
   "cell_type": "code",
   "execution_count": null,
   "metadata": {},
   "outputs": [],
   "source": [
    "import numpy as np\n",
    "import cv2"
   ]
  },
  {
   "cell_type": "markdown",
   "metadata": {},
   "source": [
    "## Open the webcam"
   ]
  },
  {
   "cell_type": "markdown",
   "metadata": {},
   "source": [
    "We are going to use the [`cv2.VideoCapture` class](https://docs.opencv.org/master/d8/dfe/classcv_1_1VideoCapture.html) to grab frames from the webcam."
   ]
  },
  {
   "cell_type": "code",
   "execution_count": null,
   "metadata": {},
   "outputs": [],
   "source": [
    "# Open the default camera (see the 0 below)\n",
    "video_input = cv2.VideoCapture(0)\n",
    "\n",
    "# Check VideoCapture.\n",
    "if not video_input.isOpened():\n",
    "    raise IOError(\"OpenCV found no webcam, the program will terminate\")"
   ]
  },
  {
   "cell_type": "markdown",
   "metadata": {},
   "source": [
    "## Display the images from the camera"
   ]
  },
  {
   "cell_type": "markdown",
   "metadata": {},
   "source": [
    "We create a window to display the images from the webcam"
   ]
  },
  {
   "cell_type": "code",
   "execution_count": null,
   "metadata": {},
   "outputs": [],
   "source": [
    "cv2.namedWindow(\"Webcam\", cv2.WINDOW_GUI_EXPANDED); # Create a window"
   ]
  },
  {
   "cell_type": "markdown",
   "metadata": {},
   "source": [
    "We display the images in a loop"
   ]
  },
  {
   "cell_type": "code",
   "execution_count": null,
   "metadata": {},
   "outputs": [],
   "source": [
    "key = -1\n",
    "while key != 27 and key != 'q':\n",
    "\n",
    "    # Grab a new frame\n",
    "    ret, frame = video_input.read()\n",
    "\n",
    "    # Make sure everything went well\n",
    "    if frame is None:\n",
    "        video_input.release() # We are now done with the camera, stop it\n",
    "        raise IOError(\"OpenCV cannot grab a new frame from the camera, the program will terminate\")\n",
    "       \n",
    "    # Display the image\n",
    "    cv2.imshow(\"Webcam\", frame)\n",
    "    \n",
    "    key = cv2.waitKey(1);"
   ]
  },
  {
   "cell_type": "markdown",
   "metadata": {},
   "source": [
    "![The window](../Week08-Motion_Detection/output.gif)"
   ]
  },
  {
   "cell_type": "markdown",
   "metadata": {},
   "source": [
    "We don't need the window, destroy it"
   ]
  },
  {
   "cell_type": "code",
   "execution_count": null,
   "metadata": {},
   "outputs": [],
   "source": [
    "cv2.destroyAllWindows() # Destroy all the created windows"
   ]
  },
  {
   "cell_type": "markdown",
   "metadata": {},
   "source": [
    "We are now done with the camera, stop it"
   ]
  },
  {
   "cell_type": "code",
   "execution_count": null,
   "metadata": {},
   "outputs": [],
   "source": [
    "video_input.release();"
   ]
  },
  {
   "cell_type": "markdown",
   "metadata": {},
   "source": [
    "# Grab a picture without me"
   ]
  },
  {
   "cell_type": "code",
   "execution_count": null,
   "metadata": {},
   "outputs": [],
   "source": [
    "image_from_camera_without_me = ???"
   ]
  },
  {
   "cell_type": "markdown",
   "metadata": {},
   "source": [
    "# Open an image\n",
    "\n",
    "Make sure it's in greyscale."
   ]
  },
  {
   "cell_type": "code",
   "execution_count": null,
   "metadata": {},
   "outputs": [],
   "source": [
    "new_background = ???"
   ]
  },
  {
   "cell_type": "markdown",
   "metadata": {},
   "source": [
    "# Replace the background that is behind me in a for loop"
   ]
  },
  {
   "cell_type": "code",
   "execution_count": null,
   "metadata": {},
   "outputs": [],
   "source": [
    "key = -1\n",
    "while key != 27 and key != 'q':\n",
    "\n",
    "    # Grab a new frame\n",
    "    ret, current_frame = video_input.read()\n",
    "\n",
    "    # Make sure everything went well\n",
    "    if frame is None:\n",
    "        video_input.release() # We are now done with the camera, stop it\n",
    "        raise IOError(\"OpenCV cannot grab a new frame from the camera, the program will terminate\")\n",
    "    \n",
    "    \n",
    "    # Make sure the `current_frame` is in greyscale\n",
    "    \n",
    "    \n",
    "    \n",
    "    # Subtract the `current_frame` from the `image_from_camera_without_me`\n",
    "    \n",
    "    \n",
    "    \n",
    "    # Where the difference is significant, it must be me, not the background as the background hasn't changed\n",
    "    # Create a binary image so that 1 means \"significant change\" and 0 \"no change\"\n",
    "    \n",
    "    \n",
    "    \n",
    "    # Multiply the `current_frame` with this binary image\n",
    "    \n",
    "    \n",
    "    \n",
    "    # Create the negative of this binary image so that 0 means \"significant change\" and 1 \"no change\"\n",
    "    \n",
    "    \n",
    "    \n",
    "    # Multiply the `new_background` with this new binary image\n",
    "    \n",
    "    \n",
    "    \n",
    "    # Add the two images together in `composited_image`    \n",
    "    \n",
    "\n",
    "    \n",
    "    # Display the result\n",
    "    cv2.imshow(\"Webcam\", composited_image)\n",
    "    \n",
    "    key = cv2.waitKey(1);"
   ]
  },
  {
   "cell_type": "code",
   "execution_count": null,
   "metadata": {},
   "outputs": [],
   "source": [
    "cv2.destroyAllWindows() # Destroy all the created windows\n",
    "video_input.release() # We are now done with the camera, stop it"
   ]
  }
 ],
 "metadata": {
  "kernelspec": {
   "display_name": "Python 3",
   "language": "python",
   "name": "python3"
  },
  "language_info": {
   "codemirror_mode": {
    "name": "ipython",
    "version": 3
   },
   "file_extension": ".py",
   "mimetype": "text/x-python",
   "name": "python",
   "nbconvert_exporter": "python",
   "pygments_lexer": "ipython3",
   "version": "3.6.15"
  }
 },
 "nbformat": 4,
 "nbformat_minor": 4
}
