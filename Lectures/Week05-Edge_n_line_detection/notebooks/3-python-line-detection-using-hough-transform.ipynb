{
 "cells": [
  {
   "cell_type": "markdown",
   "metadata": {},
   "source": [
    "# Line detection using the Hough transform"
   ]
  },
  {
   "cell_type": "markdown",
   "metadata": {},
   "source": [
    "We'll write our own Hough transform to compute the Hough transform."
   ]
  },
  {
   "cell_type": "markdown",
   "metadata": {},
   "source": [
    "## Package inclusion for Python"
   ]
  },
  {
   "cell_type": "code",
   "execution_count": 1,
   "metadata": {},
   "outputs": [],
   "source": [
    "import copy\n",
    "import math\n",
    "import numpy as np\n",
    "import cv2"
   ]
  },
  {
   "cell_type": "markdown",
   "metadata": {},
   "source": [
    "## Read the image from a file on the disk and return a new matrix"
   ]
  },
  {
   "cell_type": "markdown",
   "metadata": {},
   "source": [
    "![../wonky.png](../img/lines.png)"
   ]
  },
  {
   "cell_type": "code",
   "execution_count": 2,
   "metadata": {},
   "outputs": [],
   "source": [
    "image = cv2.imread(\"../img/lines.png\", cv2.IMREAD_GRAYSCALE);"
   ]
  },
  {
   "cell_type": "markdown",
   "metadata": {},
   "source": [
    "## Check for errors"
   ]
  },
  {
   "cell_type": "code",
   "execution_count": 3,
   "metadata": {},
   "outputs": [],
   "source": [
    "# Check for failure\n",
    "if image is None: \n",
    "    raise Exception(\"Could not open or find the image\");"
   ]
  },
  {
   "cell_type": "markdown",
   "metadata": {},
   "source": [
    "## Convert degrees to gradients"
   ]
  },
  {
   "cell_type": "code",
   "execution_count": 4,
   "metadata": {},
   "outputs": [],
   "source": [
    "def deg2rad(anAngleInDegrees: float) -> float:\n",
    "    return anAngleInDegrees * math.pi / 180.0"
   ]
  },
  {
   "cell_type": "markdown",
   "metadata": {},
   "source": [
    "## Apply the Canny edge detector"
   ]
  },
  {
   "cell_type": "code",
   "execution_count": 5,
   "metadata": {},
   "outputs": [],
   "source": [
    "def cannyEdgeDetector(anInputImage: np.array,\n",
    "                      aCannyThreshold: int) -> np.array:\n",
    "    \n",
    "    # Find edges using Canny\n",
    "    ratio = 3\n",
    "    kernel_size = 3\n",
    "    \n",
    "    edge_image = cv2.Canny(anInputImage,\n",
    "          aCannyThreshold,\n",
    "          aCannyThreshold * ratio,\n",
    "          kernel_size)\n",
    "    \n",
    "    return edge_image"
   ]
  },
  {
   "cell_type": "code",
   "execution_count": 6,
   "metadata": {},
   "outputs": [],
   "source": [
    "blurred_image = cv2.blur( image, (3,3) )\n",
    "edge = cannyEdgeDetector(blurred_image, 60)\n",
    "\n",
    "cv2.namedWindow(\"edge\", cv2.WINDOW_GUI_EXPANDED)\n",
    "cv2.imshow(\"edge\", edge)\n",
    "\n",
    "cv2.namedWindow(\"image\", cv2.WINDOW_GUI_EXPANDED)\n",
    "cv2.imshow(\"image\", image)\n",
    "\n",
    "cv2.waitKey(0) # Wait for any keystroke in the window\n",
    "cv2.destroyAllWindows() # Destroy all the created windows"
   ]
  },
  {
   "cell_type": "markdown",
   "metadata": {},
   "source": [
    "| Original image | canny |\n",
    "|----------------|--------|\n",
    "|![image](../img/line_original.png) |  ![canny](../img/line_canny.png) |"
   ]
  },
  {
   "cell_type": "markdown",
   "metadata": {},
   "source": [
    "## Compute the accumulator"
   ]
  },
  {
   "cell_type": "code",
   "execution_count": 7,
   "metadata": {},
   "outputs": [],
   "source": [
    "def houghTransform(anInputImage: np.array,\n",
    "                   aCannyThreshold: int) -> np.array:\n",
    "\n",
    "    # Blur the input image\n",
    "    blurred_image = cv2.blur( anInputImage, (3,3) )\n",
    "\n",
    "    # Find edges using Canny\n",
    "    edge_image = cannyEdgeDetector(blurred_image, aCannyThreshold)\n",
    "\n",
    "    width  = 180;\n",
    "    diagonal = math.sqrt(edge_image.shape[1] * edge_image.shape[1] + edge_image.shape[0] * edge_image.shape[0])\n",
    "    height = math.floor(2.0 * diagonal)\n",
    "    half_height = height / 2.0\n",
    "    accumulator = np.zeros((height, width), np.single)\n",
    "\n",
    "    # Process all the pixels of the edge image\n",
    "    for j in range(edge_image.shape[0]):\n",
    "\n",
    "        for i in range(edge_image.shape[1]):\n",
    "\n",
    "            # The pixel is on an edge\n",
    "            if edge_image[j,i] > 0:\n",
    "\n",
    "                # Process all the angles\n",
    "                for theta in range(180):\n",
    "\n",
    "                    angle = deg2rad(theta);\n",
    "                    r = i * math.cos(angle) + j * math.sin(angle)\n",
    "\n",
    "                    v = math.floor(r + half_height)\n",
    "                    accumulator[v, theta] += 1\n",
    "\n",
    "    return accumulator"
   ]
  },
  {
   "cell_type": "code",
   "execution_count": 8,
   "metadata": {},
   "outputs": [
    {
     "name": "stdout",
     "output_type": "stream",
     "text": [
      "0.0 372.0\n"
     ]
    }
   ],
   "source": [
    "accumulator = houghTransform(image, 60)\n",
    "\n",
    "# Get tne min and max in the accumulator\n",
    "min_value, max_value, min_loc, max_loc = cv2.minMaxLoc(accumulator)\n",
    "print(min_value, max_value)"
   ]
  },
  {
   "cell_type": "markdown",
   "metadata": {},
   "source": [
    "## Visualise the accumulator\n",
    "\n",
    "Look for dots. Every dot represents a line in the original image. There are for of them"
   ]
  },
  {
   "cell_type": "code",
   "execution_count": 9,
   "metadata": {},
   "outputs": [],
   "source": [
    "vis_accumulator = cv2.normalize(accumulator, None, 0, 1, cv2.NORM_MINMAX, cv2.CV_32FC1)\n",
    "    \n",
    "cv2.namedWindow(\"accumulator\", cv2.WINDOW_GUI_EXPANDED)\n",
    "cv2.imshow(\"accumulator\", vis_accumulator)\n",
    "\n",
    "cv2.waitKey(0) # Wait for any keystroke in the window\n",
    "cv2.destroyAllWindows() # Destroy all the created windows"
   ]
  },
  {
   "cell_type": "markdown",
   "metadata": {},
   "source": [
    "![accumulator](../img/line_accumulator.png)"
   ]
  },
  {
   "cell_type": "markdown",
   "metadata": {},
   "source": [
    "## Draw the lines"
   ]
  },
  {
   "cell_type": "code",
   "execution_count": 10,
   "metadata": {},
   "outputs": [],
   "source": [
    "Scalar = [float, float, float]\n",
    "\n",
    "def drawLines(anImage: np.array,\n",
    "              anAccumulator: np.array,\n",
    "              aHoughThreshold: float,\n",
    "              aLineWidth: int,\n",
    "              aLineColour: Scalar) -> np.array:\n",
    "\n",
    "    # Copy the input image into the output image\n",
    "    output = copy.deepcopy(anImage)\n",
    "\n",
    "    # Process all the pixels of the accumulator image\n",
    "    for j in range(anAccumulator.shape[0]):\n",
    "\n",
    "        for i in range(anAccumulator.shape[1]):\n",
    "        \n",
    "            # The pixel value in the accumulator is greater than the threshold\n",
    "            # Display the corresponding line\n",
    "            if anAccumulator[j, i] >= aHoughThreshold:\n",
    "\n",
    "                # The pixel location\n",
    "                location = (i, j)\n",
    "\n",
    "                # The two corners of the image\n",
    "                pt1 = [               0, 0]\n",
    "                pt2 = [anImage.shape[1] - 1, anImage.shape[0] - 1]\n",
    "\n",
    "                # Get theta in radian\n",
    "                theta = deg2rad(location[0])\n",
    "\n",
    "                # Get r\n",
    "                r = location[1]\n",
    "                r -= anAccumulator.shape[0] / 2.0\n",
    "\n",
    "                # How to retrieve the line from theta and r:\n",
    "                #      x = (r - y * sin(theta)) / cos(theta);\n",
    "                #      y = (r - x * cos(theta)) / sin(theta);\n",
    "\n",
    "                # sin(theta) != 0\n",
    "                if location[0] != 0 and location[0] != 180:\n",
    "                    pt1[1] = math.floor((r - pt1[0] * math.cos(theta)) / math.sin(theta))\n",
    "                    pt2[1] = math.floor((r - pt2[0] * math.cos(theta)) /math.sin(theta))\n",
    "                # math.sin(theta) == 0 && math.cos(theta) != 0\n",
    "                else:\n",
    "                    pt1[0] = math.floor((r - pt1[1] * sin(theta)) / math.cos(theta))\n",
    "                    pt2[0] = math.floor((r - pt2[1] * sin(theta)) / math.cos(theta))\n",
    "\n",
    "                # Draw the line\n",
    "                output = cv2.line(output, pt1, pt2, aLineColour, aLineWidth)\n",
    "\n",
    "    return output"
   ]
  },
  {
   "cell_type": "code",
   "execution_count": 11,
   "metadata": {},
   "outputs": [
    {
     "name": "stdout",
     "output_type": "stream",
     "text": [
      "0.0 372.0\n"
     ]
    }
   ],
   "source": [
    "# Get tne min and max in the accumulator\n",
    "min_value, max_value, min_loc, max_loc = cv2.minMaxLoc(accumulator)\n",
    "print(min_value, max_value)\n",
    "\n",
    "hough_threshold = min_value + 0.4 * (max_value - min_value)\n",
    "\n",
    "image_with_lines = cv2.cvtColor(image, cv2.COLOR_GRAY2RGB)\n",
    "\n",
    "image_with_lines = drawLines(image_with_lines, accumulator, hough_threshold, 4, (0, 0, 255))"
   ]
  },
  {
   "cell_type": "code",
   "execution_count": 12,
   "metadata": {},
   "outputs": [],
   "source": [
    "cv2.namedWindow(\"image\", cv2.WINDOW_GUI_EXPANDED)\n",
    "cv2.imshow(\"image\", image)\n",
    "\n",
    "cv2.namedWindow(\"edge\", cv2.WINDOW_GUI_EXPANDED)\n",
    "cv2.imshow(\"edge\", edge)\n",
    "\n",
    "cv2.namedWindow(\"image_with_lines\", cv2.WINDOW_GUI_EXPANDED)\n",
    "cv2.imshow(\"image_with_lines\", image_with_lines)\n",
    "\n",
    "cv2.waitKey(0) # Wait for any keystroke in the window\n",
    "cv2.destroyAllWindows() # Destroy all the created windows"
   ]
  },
  {
   "cell_type": "markdown",
   "metadata": {},
   "source": [
    "| Original image | canny | lines |\n",
    "|----------------|--------|--------|\n",
    "|![image](../img/line_original.png) |  ![canny](../img/line_canny.png) | ![ines](../img/line_with_lines.png)"
   ]
  }
 ],
 "metadata": {
  "kernelspec": {
   "display_name": "Python 3",
   "language": "python",
   "name": "python3"
  },
  "language_info": {
   "codemirror_mode": {
    "name": "ipython",
    "version": 3
   },
   "file_extension": ".py",
   "mimetype": "text/x-python",
   "name": "python",
   "nbconvert_exporter": "python",
   "pygments_lexer": "ipython3",
   "version": "3.9.7"
  }
 },
 "nbformat": 4,
 "nbformat_minor": 4
}
