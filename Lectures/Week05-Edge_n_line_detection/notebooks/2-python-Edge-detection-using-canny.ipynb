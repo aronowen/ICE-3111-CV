{
 "cells": [
  {
   "cell_type": "markdown",
   "metadata": {},
   "source": [
    "# Edge detection using the Canny Edge detector"
   ]
  },
  {
   "cell_type": "markdown",
   "metadata": {},
   "source": [
    "The Canny Edge detector was developed by John F. Canny in 1986. It aims to satisfy three main criteria:\n",
    "\n",
    "- Low error rate: Meaning a good detection of only existent edges.\n",
    "- Good localization: The distance between edge pixels detected and real edge pixels have to be minimized.\n",
    "- Minimal response: Only one detector response per edge.\n",
    "\n",
    "See here for OpenCV's tutorial: [https://docs.opencv.org/master/da/d5c/tutorial_canny_detector.html](https://docs.opencv.org/master/da/d5c/tutorial_canny_detector.html)."
   ]
  },
  {
   "cell_type": "markdown",
   "metadata": {},
   "source": [
    "## Package inclusion for Python"
   ]
  },
  {
   "cell_type": "code",
   "execution_count": 1,
   "metadata": {},
   "outputs": [],
   "source": [
    "import numpy as np\n",
    "import cv2"
   ]
  },
  {
   "cell_type": "markdown",
   "metadata": {},
   "source": [
    "## Read the image from a file on the disk and return a new matrix"
   ]
  },
  {
   "cell_type": "markdown",
   "metadata": {},
   "source": [
    "![../cells_greyscale.png](../img/cells_greyscale.png)"
   ]
  },
  {
   "cell_type": "code",
   "execution_count": 2,
   "metadata": {},
   "outputs": [],
   "source": [
    "image = cv2.imread(\"../img/cells_greyscale.png\", cv2.IMREAD_GRAYSCALE);"
   ]
  },
  {
   "cell_type": "markdown",
   "metadata": {},
   "source": [
    "## Check for errors"
   ]
  },
  {
   "cell_type": "code",
   "execution_count": 3,
   "metadata": {},
   "outputs": [],
   "source": [
    "# Check for failure\n",
    "if image is None: \n",
    "    raise Exception(\"Could not open or find the image\");"
   ]
  },
  {
   "cell_type": "markdown",
   "metadata": {},
   "source": [
    "## Compute the derivative along the two directions"
   ]
  },
  {
   "cell_type": "markdown",
   "metadata": {},
   "source": [
    "See [https://docs.opencv.org/master/da/d5c/tutorial_canny_detector.html](https://docs.opencv.org/master/da/d5c/tutorial_canny_detector.html) for details on the functions."
   ]
  },
  {
   "cell_type": "code",
   "execution_count": 4,
   "metadata": {},
   "outputs": [],
   "source": [
    "low_threshold = 70\n",
    "ratio = 3\n",
    "kernel_size = 3 # Use a 3x3 Sobel kernel\n",
    "\n",
    "edge = cv2.Canny( image, low_threshold, low_threshold * ratio, kernel_size );"
   ]
  },
  {
   "cell_type": "markdown",
   "metadata": {},
   "source": [
    "## Show the images"
   ]
  },
  {
   "cell_type": "code",
   "execution_count": 5,
   "metadata": {},
   "outputs": [],
   "source": [
    "cv2.namedWindow(\"edge\", cv2.WINDOW_GUI_EXPANDED)\n",
    "cv2.imshow(\"edge\", edge)\n",
    "\n",
    "cv2.namedWindow(\"image\", cv2.WINDOW_GUI_EXPANDED)\n",
    "cv2.imshow(\"image\", image)\n",
    "\n",
    "cv2.waitKey(0) # Wait for any keystroke in the window\n",
    "cv2.destroyAllWindows() # Destroy all the created windows"
   ]
  },
  {
   "cell_type": "markdown",
   "metadata": {},
   "source": [
    "| Original image | grad+threshold | canny |\n",
    "|----------------|--------|--------|\n",
    "|![image](../img/image.png) | ![edge](../img/edge.png) | ![canny](../img/canny.png) |"
   ]
  }
 ],
 "metadata": {
  "kernelspec": {
   "display_name": "Python 3",
   "language": "python",
   "name": "python3"
  },
  "language_info": {
   "codemirror_mode": {
    "name": "ipython",
    "version": 3
   },
   "file_extension": ".py",
   "mimetype": "text/x-python",
   "name": "python",
   "nbconvert_exporter": "python",
   "pygments_lexer": "ipython3",
   "version": "3.9.7"
  }
 },
 "nbformat": 4,
 "nbformat_minor": 4
}
