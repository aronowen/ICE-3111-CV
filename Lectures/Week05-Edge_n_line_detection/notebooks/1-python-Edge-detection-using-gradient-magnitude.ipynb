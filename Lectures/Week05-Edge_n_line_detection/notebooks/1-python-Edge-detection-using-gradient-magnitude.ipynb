{
 "cells": [
  {
   "cell_type": "markdown",
   "metadata": {},
   "source": [
    "# Edge detection using the gradient magnitude and threshold segmentation"
   ]
  },
  {
   "cell_type": "markdown",
   "metadata": {},
   "source": [
    "## Package inclusion for Python"
   ]
  },
  {
   "cell_type": "code",
   "execution_count": 1,
   "metadata": {},
   "outputs": [],
   "source": [
    "import numpy as np\n",
    "import cv2"
   ]
  },
  {
   "cell_type": "markdown",
   "metadata": {},
   "source": [
    "## Read the image from a file on the disk and return a new matrix"
   ]
  },
  {
   "cell_type": "markdown",
   "metadata": {},
   "source": [
    "![../cells_greyscale.png](../img/cells_greyscale.png)"
   ]
  },
  {
   "cell_type": "code",
   "execution_count": 2,
   "metadata": {},
   "outputs": [],
   "source": [
    "image = cv2.imread(\"../img/cells_greyscale.png\", cv2.IMREAD_GRAYSCALE);"
   ]
  },
  {
   "cell_type": "markdown",
   "metadata": {},
   "source": [
    "## Check for errors"
   ]
  },
  {
   "cell_type": "code",
   "execution_count": 3,
   "metadata": {},
   "outputs": [],
   "source": [
    "# Check for failure\n",
    "if image is None: \n",
    "    raise Exception(\"Could not open or find the image\");"
   ]
  },
  {
   "cell_type": "markdown",
   "metadata": {},
   "source": [
    "## Compute the derivative along the two directions"
   ]
  },
  {
   "cell_type": "markdown",
   "metadata": {},
   "source": [
    "See [https://docs.opencv.org/master/d2/d2c/tutorial_sobel_derivatives.html](https://docs.opencv.org/master/d2/d2c/tutorial_sobel_derivatives.html) or details of the functions."
   ]
  },
  {
   "cell_type": "code",
   "execution_count": 4,
   "metadata": {},
   "outputs": [],
   "source": [
    "ksize = 3 # Use a 3x3 Sobel kernel\n",
    "\n",
    "grad_x = cv2.Sobel(image, cv2.CV_32F, 1, 0, ksize) # dx = 1, dy = 0\n",
    "grad_y = cv2.Sobel(image, cv2.CV_32F, 0, 1, ksize) # dx = 0, dy = 1"
   ]
  },
  {
   "cell_type": "markdown",
   "metadata": {},
   "source": [
    "## Show the images"
   ]
  },
  {
   "cell_type": "code",
   "execution_count": 5,
   "metadata": {},
   "outputs": [],
   "source": [
    "cv2.namedWindow(\"grad_x\", cv2.WINDOW_GUI_EXPANDED)\n",
    "cv2.imshow(\"grad_x\", grad_x)\n",
    "\n",
    "cv2.namedWindow(\"grad_y\", cv2.WINDOW_GUI_EXPANDED)\n",
    "cv2.imshow(\"grad_y\", grad_y)\n",
    "\n",
    "cv2.namedWindow(\"image\", cv2.WINDOW_GUI_EXPANDED)\n",
    "cv2.imshow(\"image\", image)\n",
    "\n",
    "cv2.waitKey(0) # Wait for any keystroke in the window\n",
    "cv2.destroyAllWindows() # Destroy all the created windows"
   ]
  },
  {
   "cell_type": "markdown",
   "metadata": {},
   "source": [
    "| Original image | gard_x | grad_y |\n",
    "|----------------|--------|--------|\n",
    "|![image](../img/image.png) | ![grad_x](../img/grad_x.png) | ![grad_y](../img/grad_y.png) |\n",
    "\n",
    "Not very good. What's wrong? We must normalise the data first. See the min and max pixel values?"
   ]
  },
  {
   "cell_type": "code",
   "execution_count": 6,
   "metadata": {},
   "outputs": [
    {
     "name": "stdout",
     "output_type": "stream",
     "text": [
      "grad_x, min: -268.0   max: 257.0\n",
      "grad_y, min: -278.0   max: 255.0\n"
     ]
    }
   ],
   "source": [
    "min_value, max_value, min_loc, max_loc = cv2.minMaxLoc(grad_x)\n",
    "print(\"grad_x, min:\", min_value, \"  max:\", max_value)\n",
    "\n",
    "min_value, max_value, min_loc, max_loc = cv2.minMaxLoc(grad_y)\n",
    "print(\"grad_y, min:\", min_value, \"  max:\", max_value)"
   ]
  },
  {
   "cell_type": "markdown",
   "metadata": {},
   "source": [
    "Within the range 0.0 and 1.0 (because of using CV_32F (float32))? NO! We must normalise the image for the visualisation."
   ]
  },
  {
   "cell_type": "code",
   "execution_count": 7,
   "metadata": {},
   "outputs": [],
   "source": [
    "vis_grad_x = cv2.normalize(grad_x, None, 0, 255, cv2.NORM_MINMAX, cv2.CV_8UC1)\n",
    "vis_grad_y = cv2.normalize(grad_y, None, 0, 255, cv2.NORM_MINMAX, cv2.CV_8UC1)"
   ]
  },
  {
   "cell_type": "code",
   "execution_count": 8,
   "metadata": {},
   "outputs": [],
   "source": [
    "cv2.namedWindow(\"grad_x\", cv2.WINDOW_GUI_EXPANDED)\n",
    "cv2.imshow(\"grad_x\", vis_grad_x)\n",
    "\n",
    "cv2.namedWindow(\"grad_y\", cv2.WINDOW_GUI_EXPANDED)\n",
    "cv2.imshow(\"grad_y\", vis_grad_y)\n",
    "\n",
    "cv2.namedWindow(\"image\", cv2.WINDOW_GUI_EXPANDED)\n",
    "cv2.imshow(\"image\", image)\n",
    "\n",
    "cv2.waitKey(0) # Wait for any keystroke in the window\n",
    "cv2.destroyAllWindows() # Destroy all the created windows"
   ]
  },
  {
   "cell_type": "markdown",
   "metadata": {},
   "source": [
    "| Original image | gard_x | grad_y |\n",
    "|----------------|--------|--------|\n",
    "|![image](../img/image.png) | ![grad_x](../img/vis_grad_x.png) | ![grad_y](../img/vis_grad_y.png) |\n",
    "\n",
    "Better? Same data but presented differently"
   ]
  },
  {
   "cell_type": "markdown",
   "metadata": {},
   "source": [
    "## Compute the gradient magnitude"
   ]
  },
  {
   "cell_type": "code",
   "execution_count": 9,
   "metadata": {},
   "outputs": [],
   "source": [
    "abs_grad_x = np.abs(grad_x) # We use Numpy here!\n",
    "abs_grad_y = np.abs(grad_y)"
   ]
  },
  {
   "cell_type": "markdown",
   "metadata": {},
   "source": [
    "### Visualise the result"
   ]
  },
  {
   "cell_type": "code",
   "execution_count": 10,
   "metadata": {},
   "outputs": [],
   "source": [
    "vis_abs_grad_x = cv2.normalize(abs_grad_x, None, 0, 255, cv2.NORM_MINMAX, cv2.CV_8UC1)\n",
    "vis_abs_grad_y = cv2.normalize(abs_grad_y, None, 0, 255, cv2.NORM_MINMAX, cv2.CV_8UC1)"
   ]
  },
  {
   "cell_type": "code",
   "execution_count": 11,
   "metadata": {},
   "outputs": [],
   "source": [
    "cv2.namedWindow(\"abs_grad_x\", cv2.WINDOW_GUI_EXPANDED)\n",
    "cv2.imshow(\"abs_grad_x\", vis_abs_grad_x)\n",
    "\n",
    "cv2.namedWindow(\"abs_grad_y\", cv2.WINDOW_GUI_EXPANDED)\n",
    "cv2.imshow(\"abs_grad_y\", vis_abs_grad_y)\n",
    "\n",
    "cv2.namedWindow(\"image\", cv2.WINDOW_GUI_EXPANDED)\n",
    "cv2.imshow(\"image\", image)\n",
    "\n",
    "cv2.waitKey(0) # Wait for any keystroke in the window\n",
    "cv2.destroyAllWindows() # Destroy all the created windows"
   ]
  },
  {
   "cell_type": "markdown",
   "metadata": {},
   "source": [
    "| Original image | abs_grad_x | abs_grad_y |\n",
    "|----------------|--------|--------|\n",
    "|![image](../img/image.png) | ![grad_x](../img/vis_abs_grad_x.png) | ![grad_y](../img/vis_abs_grad_y.png) |"
   ]
  },
  {
   "cell_type": "markdown",
   "metadata": {},
   "source": [
    "### Combine the gradient along the two directions"
   ]
  },
  {
   "cell_type": "code",
   "execution_count": 12,
   "metadata": {},
   "outputs": [],
   "source": [
    "grad  = cv2.addWeighted(abs_grad_x, 0.5, abs_grad_y, 0.5, 0);"
   ]
  },
  {
   "cell_type": "code",
   "execution_count": 13,
   "metadata": {},
   "outputs": [],
   "source": [
    "vis_grad = cv2.normalize(grad, None, 0, 255, cv2.NORM_MINMAX, cv2.CV_8UC1)"
   ]
  },
  {
   "cell_type": "code",
   "execution_count": 14,
   "metadata": {},
   "outputs": [],
   "source": [
    "cv2.namedWindow(\"grad\", cv2.WINDOW_GUI_EXPANDED)\n",
    "cv2.imshow(\"grad\", vis_grad)\n",
    "\n",
    "cv2.namedWindow(\"image\", cv2.WINDOW_GUI_EXPANDED)\n",
    "cv2.imshow(\"image\", image)\n",
    "\n",
    "cv2.waitKey(0) # Wait for any keystroke in the window\n",
    "cv2.destroyAllWindows() # Destroy all the created windows"
   ]
  },
  {
   "cell_type": "markdown",
   "metadata": {},
   "source": [
    "| Original image | grad |abs_grad_x | abs_grad_y |\n",
    "|----------------|------|--------|--------|\n",
    "|![image](../img/image.png) | ![grad](../img/vis_grad.png) | ![grad_x](../img/vis_abs_grad_x.png) | ![grad_y](../img/vis_abs_grad_y.png) |"
   ]
  },
  {
   "cell_type": "markdown",
   "metadata": {},
   "source": [
    "## Segmentation using the threshold technique"
   ]
  },
  {
   "cell_type": "markdown",
   "metadata": {},
   "source": [
    "See [https://docs.opencv.org/master/d7/d1b/group__imgproc__misc.html#gae8a4a146d1ca78c626a53577199e9c57](https://docs.opencv.org/master/d7/d1b/group__imgproc__misc.html#gae8a4a146d1ca78c626a53577199e9c57) or details of the functions. \n",
    "\n",
    "See here for the threshold types: [https://docs.opencv.org/master/d7/d1b/group__imgproc__misc.html#gaa9e58d2860d4afa658ef70a9b1115576](https://docs.opencv.org/master/d7/d1b/group__imgproc__misc.html#gaa9e58d2860d4afa658ef70a9b1115576)"
   ]
  },
  {
   "cell_type": "code",
   "execution_count": 15,
   "metadata": {},
   "outputs": [],
   "source": [
    "edge = cv2.threshold(vis_grad, 64, 255, cv2.THRESH_BINARY)"
   ]
  },
  {
   "cell_type": "code",
   "execution_count": 16,
   "metadata": {},
   "outputs": [],
   "source": [
    "cv2.namedWindow(\"grad\", cv2.WINDOW_GUI_EXPANDED)\n",
    "cv2.imshow(\"grad\", vis_grad)\n",
    "\n",
    "cv2.namedWindow(\"edge\", cv2.WINDOW_GUI_EXPANDED)\n",
    "cv2.imshow(\"edge\", edge[1])  # See the [1], we did not have it in C/C++\n",
    "\n",
    "cv2.namedWindow(\"image\", cv2.WINDOW_GUI_EXPANDED)\n",
    "cv2.imshow(\"image\", image)\n",
    "\n",
    "cv2.waitKey(0) # Wait for any keystroke in the window\n",
    "cv2.destroyAllWindows() # Destroy all the created windows"
   ]
  },
  {
   "cell_type": "markdown",
   "metadata": {},
   "source": [
    "| Original image | grad | edge |\n",
    "|----------------|--------|--------|\n",
    "|![image](../img/image.png) | ![grad](../img/vis_grad.png) | ![edge](../img/edge.png) |"
   ]
  }
 ],
 "metadata": {
  "kernelspec": {
   "display_name": "Python 3",
   "language": "python",
   "name": "python3"
  },
  "language_info": {
   "codemirror_mode": {
    "name": "ipython",
    "version": 3
   },
   "file_extension": ".py",
   "mimetype": "text/x-python",
   "name": "python",
   "nbconvert_exporter": "python",
   "pygments_lexer": "ipython3",
   "version": "3.9.7"
  }
 },
 "nbformat": 4,
 "nbformat_minor": 4
}
