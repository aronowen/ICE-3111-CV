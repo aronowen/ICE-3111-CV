{
 "cells": [
  {
   "cell_type": "markdown",
   "metadata": {},
   "source": [
    "# Straighten an image using the Hough transform"
   ]
  },
  {
   "cell_type": "markdown",
   "metadata": {},
   "source": [
    "We'll write our own Hough transform to compute the Hough transform and use it to straighten a wonky image."
   ]
  },
  {
   "cell_type": "markdown",
   "metadata": {},
   "source": [
    "## Package inclusion for Python"
   ]
  },
  {
   "cell_type": "code",
   "execution_count": 1,
   "metadata": {},
   "outputs": [],
   "source": [
    "import copy\n",
    "import math\n",
    "import numpy as np\n",
    "import cv2"
   ]
  },
  {
   "cell_type": "markdown",
   "metadata": {},
   "source": [
    "## Read the image from a file on the disk and return a new matrix"
   ]
  },
  {
   "cell_type": "markdown",
   "metadata": {},
   "source": [
    "![../wonky.png](../img/wonky.png)"
   ]
  },
  {
   "cell_type": "code",
   "execution_count": 2,
   "metadata": {},
   "outputs": [
    {
     "name": "stderr",
     "output_type": "stream",
     "text": [
      "libpng warning: iCCP: CRC error\n"
     ]
    }
   ],
   "source": [
    "image = cv2.imread(\"../img/wonky.png\");"
   ]
  },
  {
   "cell_type": "markdown",
   "metadata": {},
   "source": [
    "## Check for errors"
   ]
  },
  {
   "cell_type": "code",
   "execution_count": 3,
   "metadata": {},
   "outputs": [],
   "source": [
    "# Check for failure\n",
    "if image is None: \n",
    "    raise Exception(\"Could not open or find the image\");"
   ]
  },
  {
   "cell_type": "markdown",
   "metadata": {},
   "source": [
    "## Convert degrees to gradients"
   ]
  },
  {
   "cell_type": "code",
   "execution_count": 4,
   "metadata": {},
   "outputs": [],
   "source": [
    "def deg2rad(anAngleInDegrees: float) -> float:\n",
    "    return anAngleInDegrees * math.pi / 180.0"
   ]
  },
  {
   "cell_type": "markdown",
   "metadata": {},
   "source": [
    "## Apply the Canny edge detector"
   ]
  },
  {
   "cell_type": "code",
   "execution_count": 5,
   "metadata": {},
   "outputs": [],
   "source": [
    "def cannyEdgeDetector(anInputImage: np.array,\n",
    "                      aCannyThreshold: int) -> np.array:\n",
    "    \n",
    "    # Find edges using Canny\n",
    "    ratio = 3\n",
    "    kernel_size = 3\n",
    "    \n",
    "    edge_image = cv2.Canny(anInputImage,\n",
    "          aCannyThreshold,\n",
    "          aCannyThreshold * ratio,\n",
    "          kernel_size)\n",
    "    \n",
    "    return edge_image"
   ]
  },
  {
   "cell_type": "code",
   "execution_count": 6,
   "metadata": {},
   "outputs": [],
   "source": [
    "blurred_image = cv2.blur( image, (3,3) )\n",
    "edge = cannyEdgeDetector(blurred_image, 60)\n",
    "\n",
    "cv2.namedWindow(\"edge\", cv2.WINDOW_GUI_EXPANDED)\n",
    "cv2.imshow(\"edge\", edge)\n",
    "\n",
    "cv2.namedWindow(\"image\", cv2.WINDOW_GUI_EXPANDED)\n",
    "cv2.imshow(\"image\", image)\n",
    "\n",
    "cv2.waitKey(0) # Wait for any keystroke in the window\n",
    "cv2.destroyAllWindows() # Destroy all the created windows"
   ]
  },
  {
   "cell_type": "markdown",
   "metadata": {},
   "source": [
    "| Original image | canny |\n",
    "|----------------|--------|\n",
    "|![image](../img/wonky_original.png) |  ![canny](../img/wonky_canny.png) |"
   ]
  },
  {
   "cell_type": "markdown",
   "metadata": {},
   "source": [
    "## Compute the accumulator"
   ]
  },
  {
   "cell_type": "code",
   "execution_count": 7,
   "metadata": {},
   "outputs": [],
   "source": [
    "def houghTransform(anInputImage: np.array,\n",
    "                   aCannyThreshold: int) -> np.array:\n",
    "\n",
    "    # Blur the input image\n",
    "    blurred_image = cv2.blur( anInputImage, (3,3) )\n",
    "\n",
    "    # Find edges using Canny\n",
    "    edge_image = cannyEdgeDetector(blurred_image, aCannyThreshold)\n",
    "\n",
    "    width  = 180;\n",
    "    diagonal = math.sqrt(edge_image.shape[1] * edge_image.shape[1] + edge_image.shape[0] * edge_image.shape[0])\n",
    "    height = math.floor(2.0 * diagonal)\n",
    "    half_height = height / 2.0\n",
    "    accumulator = np.zeros((height, width), np.single)\n",
    "\n",
    "    # Process all the pixels of the edge image\n",
    "    for j in range(edge_image.shape[0]):\n",
    "\n",
    "        for i in range(edge_image.shape[1]):\n",
    "\n",
    "            # The pixel is on an edge\n",
    "            if edge_image[j,i] > 0:\n",
    "\n",
    "                # Process all the angles\n",
    "                for theta in range(180):\n",
    "\n",
    "                    angle = deg2rad(theta);\n",
    "                    r = i * math.cos(angle) + j * math.sin(angle)\n",
    "\n",
    "                    v = math.floor(r + half_height)\n",
    "                    accumulator[v, theta] += 1\n",
    "\n",
    "    return accumulator"
   ]
  },
  {
   "cell_type": "code",
   "execution_count": 8,
   "metadata": {},
   "outputs": [],
   "source": [
    "accumulator = houghTransform(image, 60)"
   ]
  },
  {
   "cell_type": "markdown",
   "metadata": {},
   "source": [
    "## Visualise the accumulator\n",
    "\n",
    "Look for dots. Every dot represents a line in the original image. There are for of them"
   ]
  },
  {
   "cell_type": "code",
   "execution_count": 9,
   "metadata": {},
   "outputs": [],
   "source": [
    "vis_accumulator = cv2.normalize(accumulator, None, 0, 1, cv2.NORM_MINMAX, cv2.CV_32FC1)\n",
    "    \n",
    "cv2.namedWindow(\"accumulator\", cv2.WINDOW_GUI_EXPANDED)\n",
    "cv2.imshow(\"accumulator\", vis_accumulator)\n",
    "\n",
    "cv2.waitKey(0) # Wait for any keystroke in the window\n",
    "cv2.destroyAllWindows() # Destroy all the created windows"
   ]
  },
  {
   "cell_type": "markdown",
   "metadata": {},
   "source": [
    "![accumulator](../img/wonky_accumulator.png)"
   ]
  },
  {
   "cell_type": "markdown",
   "metadata": {},
   "source": [
    "## Draw the lines"
   ]
  },
  {
   "cell_type": "code",
   "execution_count": 10,
   "metadata": {},
   "outputs": [],
   "source": [
    "Scalar = [float, float, float]\n",
    "\n",
    "def drawLines(anImage: np.array,\n",
    "              anAccumulator: np.array,\n",
    "              aHoughThreshold: float,\n",
    "              aLineWidth: int,\n",
    "              aLineColour: Scalar) -> np.array:\n",
    "\n",
    "    # Copy the input image into the output image\n",
    "    output = copy.deepcopy(anImage)\n",
    "\n",
    "    # Process all the pixels of the accumulator image\n",
    "    for j in range(anAccumulator.shape[0]):\n",
    "\n",
    "        for i in range(anAccumulator.shape[1]):\n",
    "        \n",
    "            # The pixel value in the accumulator is greater than the threshold\n",
    "            # Display the corresponding line\n",
    "            if anAccumulator[j, i] >= aHoughThreshold:\n",
    "\n",
    "                # The pixel location\n",
    "                location = (i, j)\n",
    "\n",
    "                # The two corners of the image\n",
    "                pt1 = [               0, 0]\n",
    "                pt2 = [anImage.shape[1] - 1, anImage.shape[0] - 1]\n",
    "\n",
    "                # Get theta in radian\n",
    "                theta = deg2rad(location[0])\n",
    "\n",
    "                # Get r\n",
    "                r = location[1]\n",
    "                r -= anAccumulator.shape[0] / 2.0\n",
    "\n",
    "                # How to retrieve the line from theta and r:\n",
    "                #      x = (r - y * sin(theta)) / cos(theta);\n",
    "                #      y = (r - x * cos(theta)) / sin(theta);\n",
    "\n",
    "                # sin(theta) != 0\n",
    "                if location[0] != 0 and location[0] != 180:\n",
    "                    pt1[1] = math.floor((r - pt1[0] * math.cos(theta)) / math.sin(theta))\n",
    "                    pt2[1] = math.floor((r - pt2[0] * math.cos(theta)) /math.sin(theta))\n",
    "                # math.sin(theta) == 0 && math.cos(theta) != 0\n",
    "                else:\n",
    "                    pt1[0] = math.floor((r - pt1[1] * sin(theta)) / math.cos(theta))\n",
    "                    pt2[0] = math.floor((r - pt2[1] * sin(theta)) / math.cos(theta))\n",
    "\n",
    "                # Draw the line\n",
    "                output = cv2.line(output, pt1, pt2, aLineColour, aLineWidth)\n",
    "\n",
    "    return output"
   ]
  },
  {
   "cell_type": "code",
   "execution_count": 11,
   "metadata": {},
   "outputs": [],
   "source": [
    "# Get tne min and max in the accumulator\n",
    "min_value, max_value, min_loc, max_loc = cv2.minMaxLoc(accumulator)\n",
    "\n",
    "hough_threshold = min_value + 0.6 * (max_value - min_value)\n",
    "\n",
    "image_with_lines = drawLines(image, accumulator, hough_threshold, 4, (0, 0, 255))"
   ]
  },
  {
   "cell_type": "code",
   "execution_count": 12,
   "metadata": {},
   "outputs": [],
   "source": [
    "cv2.namedWindow(\"image\", cv2.WINDOW_GUI_EXPANDED)\n",
    "cv2.imshow(\"image\", image)\n",
    "\n",
    "cv2.namedWindow(\"edge\", cv2.WINDOW_GUI_EXPANDED)\n",
    "cv2.imshow(\"edge\", edge)\n",
    "\n",
    "cv2.namedWindow(\"image_with_lines\", cv2.WINDOW_GUI_EXPANDED)\n",
    "cv2.imshow(\"image_with_lines\", image_with_lines)\n",
    "\n",
    "cv2.waitKey(0) # Wait for any keystroke in the window\n",
    "cv2.destroyAllWindows() # Destroy all the created windows"
   ]
  },
  {
   "cell_type": "markdown",
   "metadata": {},
   "source": [
    "| Original image | canny | lines |\n",
    "|----------------|--------|--------|\n",
    "|![image](../img/wonky_original.png) |  ![canny](../img/wonky_canny.png) | ![ines](../img/wonky_with_lines.png)"
   ]
  },
  {
   "cell_type": "markdown",
   "metadata": {},
   "source": [
    "## Extract the angle from the accumulator"
   ]
  },
  {
   "cell_type": "code",
   "execution_count": 13,
   "metadata": {},
   "outputs": [],
   "source": [
    "min_value, max_value, min_loc, max_loc = cv2.minMaxLoc(accumulator)"
   ]
  },
  {
   "cell_type": "code",
   "execution_count": 14,
   "metadata": {},
   "outputs": [
    {
     "name": "stdout",
     "output_type": "stream",
     "text": [
      "Max value:  418.0  Location:  (9, 1632)\n"
     ]
    }
   ],
   "source": [
    "print(\"Max value: \", max_value, \" Location: \", (90 - max_loc[0], max_loc[1]))"
   ]
  },
  {
   "cell_type": "markdown",
   "metadata": {},
   "source": [
    "We must convert the position along the horizontal axis into an angle. It's simple. [9, 1632] Tells us that the image is rotated by 9 degrees. To straighten it, we must rotate it by -9 degrees."
   ]
  },
  {
   "cell_type": "code",
   "execution_count": 15,
   "metadata": {},
   "outputs": [],
   "source": [
    "def rotate(anImage: np.array, angle: float) -> np.array:\n",
    "\n",
    "    /# Point from where to rotate (centre of rotation), here the centre of the image\n",
    "    pt = (anImage.shape[1] / 2.0, anImage.shape[0] / 2.0)          \n",
    "    \n",
    "    # Create a rotation matrix\n",
    "    rotation_matrix = cv2.getRotationMatrix2D(pt, angle, 1.0)\n",
    "    \n",
    "    # Apply the transforation to the image\n",
    "    rotated_image = cv2. warpAffine(anImage, rotation_matrix, (anImage.shape[0], anImage.shape[1])) \n",
    "    \n",
    "    return rotated_image"
   ]
  },
  {
   "cell_type": "code",
   "execution_count": 16,
   "metadata": {},
   "outputs": [
    {
     "name": "stdout",
     "output_type": "stream",
     "text": [
      "9\n"
     ]
    }
   ],
   "source": [
    "print(90 - max_loc[0])\n",
    "rotated = rotate(image, -(90 - max_loc[0]))"
   ]
  },
  {
   "cell_type": "code",
   "execution_count": 17,
   "metadata": {},
   "outputs": [],
   "source": [
    "cv2.namedWindow(\"image\", cv2.WINDOW_GUI_EXPANDED)\n",
    "cv2.imshow(\"image\", image)\n",
    "\n",
    "cv2.namedWindow(\"rotated\", cv2.WINDOW_GUI_EXPANDED)\n",
    "cv2.imshow(\"rotated\", rotated)\n",
    "\n",
    "cv2.waitKey(0) # Wait for any keystroke in the window\n",
    "cv2.destroyAllWindows() # Destroy all the created windows"
   ]
  },
  {
   "cell_type": "markdown",
   "metadata": {},
   "source": [
    "| Original image | straighten |\n",
    "|----------------|--------|\n",
    "|![image](../img/wonky_original.png) | ![straighten](../img/wonky_straighten.png)"
   ]
  }
 ],
 "metadata": {
  "kernelspec": {
   "display_name": "Python 3 (ipykernel)",
   "language": "python",
   "name": "python3"
  },
  "language_info": {
   "codemirror_mode": {
    "name": "ipython",
    "version": 3
   },
   "file_extension": ".py",
   "mimetype": "text/x-python",
   "name": "python",
   "nbconvert_exporter": "python",
   "pygments_lexer": "ipython3",
   "version": "3.8.12"
  }
 },
 "nbformat": 4,
 "nbformat_minor": 4
}
