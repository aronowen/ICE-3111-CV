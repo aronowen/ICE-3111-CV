{
 "cells": [
  {
   "cell_type": "markdown",
   "id": "7800d25c",
   "metadata": {},
   "source": [
    "# How to use OpenCV to load an image file and display the image in a window"
   ]
  },
  {
   "cell_type": "markdown",
   "id": "9436ba56",
   "metadata": {},
   "source": [
    "## Compiler parameters"
   ]
  },
  {
   "cell_type": "markdown",
   "id": "4b6caf54",
   "metadata": {},
   "source": [
    "Set my Jypyter environment for the use of OpenCV in a C++ notebook. You don't need this line when you write yur own C++ programs. I need it to set my interactive compiler ([Cling](https://root.cern/cling/)). For your own program, use CMake."
   ]
  },
  {
   "cell_type": "code",
   "execution_count": 1,
   "id": "c2719bbb",
   "metadata": {},
   "outputs": [],
   "source": [
    "#include \"../../includeLibraries.h\""
   ]
  },
  {
   "cell_type": "markdown",
   "id": "0f93a5af",
   "metadata": {},
   "source": [
    "## Header inclusion for C++"
   ]
  },
  {
   "cell_type": "code",
   "execution_count": 2,
   "id": "f8eb917c",
   "metadata": {},
   "outputs": [],
   "source": [
    "#include <iostream>\n",
    "#include <opencv2/opencv.hpp>"
   ]
  },
  {
   "cell_type": "markdown",
   "id": "4683a0aa",
   "metadata": {},
   "source": [
    "## Add the namespaces"
   ]
  },
  {
   "cell_type": "code",
   "execution_count": 3,
   "id": "1899a7cb",
   "metadata": {},
   "outputs": [],
   "source": [
    "using namespace std;"
   ]
  },
  {
   "cell_type": "code",
   "execution_count": 4,
   "id": "946f76f7",
   "metadata": {},
   "outputs": [],
   "source": [
    "using namespace cv;"
   ]
  },
  {
   "cell_type": "markdown",
   "id": "146908b3",
   "metadata": {},
   "source": [
    "## Read the image from a file on the disk and return a new matrix"
   ]
  },
  {
   "cell_type": "code",
   "execution_count": 5,
   "id": "c0eebd97",
   "metadata": {},
   "outputs": [],
   "source": [
    "Mat image = imread(\"../cells_greyscale.png\");"
   ]
  },
  {
   "cell_type": "markdown",
   "id": "61f9c651",
   "metadata": {},
   "source": [
    "## Check for errors"
   ]
  },
  {
   "cell_type": "code",
   "execution_count": 6,
   "id": "e0c2c236",
   "metadata": {},
   "outputs": [],
   "source": [
    "// Check for failure\n",
    "if (image.empty()) \n",
    "{\n",
    "    cerr << \"Could not open or find the image\" << endl;\n",
    "    return -1;\n",
    "}"
   ]
  },
  {
   "cell_type": "markdown",
   "id": "af3d6f55",
   "metadata": {},
   "source": [
    "## Display the image in a window"
   ]
  },
  {
   "cell_type": "code",
   "execution_count": 7,
   "id": "157e77a4",
   "metadata": {},
   "outputs": [],
   "source": [
    "String window_name = \"Cells\"; //Name of the window\n",
    "\n",
    "namedWindow(window_name, WINDOW_GUI_EXPANDED); // Create a window\n",
    "imshow(window_name, image); // Show our image inside the created window.\n",
    "waitKey(0); // Wait for any keystroke in the window\n",
    "destroyWindow(window_name); // Destroy the created window"
   ]
  },
  {
   "cell_type": "markdown",
   "id": "e7dd6054",
   "metadata": {},
   "source": [
    "A window will open:\n",
    "\n",
    "![OpenCV window](../opencv-cxx-load-display.png)"
   ]
  },
  {
   "cell_type": "code",
   "execution_count": null,
   "id": "edc885a8-3e8d-4983-809d-b9ef47063a58",
   "metadata": {},
   "outputs": [],
   "source": []
  }
 ],
 "metadata": {
  "kernelspec": {
   "display_name": "C++17",
   "language": "C++17",
   "name": "xcpp17"
  },
  "language_info": {
   "codemirror_mode": "text/x-c++src",
   "file_extension": ".cpp",
   "mimetype": "text/x-c++src",
   "name": "c++",
   "version": "17"
  }
 },
 "nbformat": 4,
 "nbformat_minor": 5
}
