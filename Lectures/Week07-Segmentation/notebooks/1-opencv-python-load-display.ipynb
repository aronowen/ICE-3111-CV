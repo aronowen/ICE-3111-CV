{
 "cells": [
  {
   "cell_type": "markdown",
   "id": "d6afb2a7",
   "metadata": {},
   "source": [
    "# How to use OpenCV to load an image file and display the image in a window"
   ]
  },
  {
   "cell_type": "markdown",
   "id": "e3536803",
   "metadata": {},
   "source": [
    "## Package inclusion for Python"
   ]
  },
  {
   "cell_type": "code",
   "execution_count": 1,
   "id": "b0a8be30",
   "metadata": {},
   "outputs": [],
   "source": [
    "import numpy as np\n",
    "import cv2"
   ]
  },
  {
   "cell_type": "markdown",
   "id": "3d64383d",
   "metadata": {},
   "source": [
    "## Read the image from a file on the disk and return a new matrix"
   ]
  },
  {
   "cell_type": "code",
   "execution_count": 2,
   "id": "b063096b",
   "metadata": {},
   "outputs": [],
   "source": [
    "image = cv2.imread(\"../cells_greyscale.png\")"
   ]
  },
  {
   "cell_type": "markdown",
   "id": "64a58f47",
   "metadata": {},
   "source": [
    "## Check for errors"
   ]
  },
  {
   "cell_type": "code",
   "execution_count": 3,
   "id": "1167c4d3",
   "metadata": {},
   "outputs": [],
   "source": [
    "# Check for failure\n",
    "if image is None: \n",
    "    raise Exception(\"Could not open or find the image\")"
   ]
  },
  {
   "cell_type": "markdown",
   "id": "c1af2ed2",
   "metadata": {},
   "source": [
    "## Display the image in a window"
   ]
  },
  {
   "cell_type": "code",
   "execution_count": 4,
   "id": "5e4f86ae",
   "metadata": {},
   "outputs": [],
   "source": [
    "window_name = \"Cells\" # Name of the window\n",
    "\n",
    "cv2.namedWindow(window_name, cv2.WINDOW_GUI_EXPANDED) # Create a window\n",
    "cv2.imshow(window_name, image) # Show our image inside the created window.\n",
    "cv2.waitKey(0) # Wait for any keystroke in the window\n",
    "cv2.destroyWindow(window_name) # Destroy the created window"
   ]
  },
  {
   "cell_type": "markdown",
   "id": "d6e946bd",
   "metadata": {},
   "source": [
    "A window will open:\n",
    "\n",
    "![OpenCV window](../opencv-cxx-load-display.png)"
   ]
  }
 ],
 "metadata": {
  "kernelspec": {
   "display_name": "Python 3 (ipykernel)",
   "language": "python",
   "name": "python3"
  },
  "language_info": {
   "codemirror_mode": {
    "name": "ipython",
    "version": 3
   },
   "file_extension": ".py",
   "mimetype": "text/x-python",
   "name": "python",
   "nbconvert_exporter": "python",
   "pygments_lexer": "ipython3",
   "version": "3.9.7"
  }
 },
 "nbformat": 4,
 "nbformat_minor": 5
}
