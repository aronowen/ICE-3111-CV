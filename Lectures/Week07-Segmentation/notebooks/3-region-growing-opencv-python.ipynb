{
 "cells": [
  {
   "cell_type": "markdown",
   "metadata": {},
   "source": [
    "# How to use OpenCV to segment an image with the region growing algorithm"
   ]
  },
  {
   "cell_type": "markdown",
   "metadata": {},
   "source": [
    "## Pseudo code"
   ]
  },
  {
   "cell_type": "markdown",
   "metadata": {},
   "source": [
    "```cpp\n",
    "seed_point // coordinates of the starting point\n",
    "visited_matrix // boolean array/matrix, same size as image\n",
    "               // all the pixels are initialised to false\n",
    "point_list // empty list\n",
    "\n",
    "point_list.enqueue( seed_point ) // Add the seed to the list\n",
    "\n",
    "while ( point_list is not empty )\n",
    "{\n",
    "    this_point = point_list.dequeue() // Get a point from the list\n",
    "    visited_matrix( this_point ) = true // Visit the point\n",
    "\n",
    "    for each neighbour of this_point\n",
    "    {\n",
    "        if not visited_matrix( neighbour ) and neighbour is similar to this_point and neighbour not in point_list\n",
    "        {\n",
    "            point_list.enqueue( neighbour )\n",
    "        }\n",
    "    }\n",
    "}\n",
    "```"
   ]
  },
  {
   "cell_type": "markdown",
   "metadata": {},
   "source": [
    "## Package inclusion for Python"
   ]
  },
  {
   "cell_type": "code",
   "execution_count": 1,
   "metadata": {},
   "outputs": [],
   "source": [
    "from copy import deepcopy\n",
    "import numpy as np\n",
    "import cv2"
   ]
  },
  {
   "cell_type": "markdown",
   "metadata": {},
   "source": [
    "## Read the image from a file on the disk and return a new matrix"
   ]
  },
  {
   "cell_type": "markdown",
   "metadata": {},
   "source": [
    "![CT slice](../CT.png)"
   ]
  },
  {
   "cell_type": "code",
   "execution_count": 2,
   "metadata": {},
   "outputs": [],
   "source": [
    "ct_slice = cv2.imread(\"../CT.png\", cv2.IMREAD_GRAYSCALE)"
   ]
  },
  {
   "cell_type": "markdown",
   "metadata": {},
   "source": [
    "## Check for errors"
   ]
  },
  {
   "cell_type": "code",
   "execution_count": 3,
   "metadata": {},
   "outputs": [],
   "source": [
    "# Check for failure\n",
    "if ct_slice is None: \n",
    "    raise Exception(\"Could not open or find the image\")"
   ]
  },
  {
   "cell_type": "markdown",
   "metadata": {},
   "source": [
    "## Display the image and pickup seeds"
   ]
  },
  {
   "cell_type": "code",
   "execution_count": 4,
   "metadata": {},
   "outputs": [],
   "source": [
    "seed_set = [] # Stores the seeds"
   ]
  },
  {
   "cell_type": "code",
   "execution_count": 5,
   "metadata": {},
   "outputs": [],
   "source": [
    "def mouseCallback(event, x, y, flags, param):\n",
    "    global seed_set\n",
    "    if  event == cv2.EVENT_LBUTTONDOWN:\n",
    "        seed_set.append([x, y])\n",
    "        colour = ( 0, 0, 255 )\n",
    "        cv2.circle( param, (x, y), 4, colour, cv2.FILLED )\n",
    "        cv2.imshow(\"CT slice\", param)"
   ]
  },
  {
   "cell_type": "code",
   "execution_count": 6,
   "metadata": {},
   "outputs": [
    {
     "data": {
      "text/plain": [
       "113"
      ]
     },
     "execution_count": 6,
     "metadata": {},
     "output_type": "execute_result"
    }
   ],
   "source": [
    "colour_ct_slice = cv2.cvtColor(ct_slice, cv2.COLOR_GRAY2RGB);\n",
    "\n",
    "cv2.namedWindow(\"CT slice\", cv2.WINDOW_AUTOSIZE) # Create a window\n",
    "cv2.imshow(\"CT slice\", colour_ct_slice) # Show our image inside the created window\n",
    "cv2.setMouseCallback(\"CT slice\", mouseCallback, colour_ct_slice) # Register the callback function\n",
    "cv2.waitKey(0) # Wait for any keystroke in the window"
   ]
  },
  {
   "cell_type": "markdown",
   "metadata": {},
   "source": [
    "Here we selected 3 seedsto segment the lungs\n",
    "\n",
    "![CT slice and the 3 seeds](../opencv-cxx-region_growing1.png)"
   ]
  },
  {
   "cell_type": "markdown",
   "metadata": {},
   "source": [
    "## Region growing function"
   ]
  },
  {
   "cell_type": "code",
   "execution_count": 7,
   "metadata": {},
   "outputs": [],
   "source": [
    "def regionGrowing(anImage,\n",
    "                  aSeedSet,\n",
    "                  anInValue=255,\n",
    "                  tolerance=5):\n",
    "\n",
    "    # boolean array/matrix, same size as image\n",
    "    # all the pixels are initialised to false\n",
    "    visited_matrix = np.zeros(anImage.shape).astype(np.uint8)\n",
    "\n",
    "    # List of points to visit\n",
    "    point_list = deepcopy(aSeedSet)\n",
    "\n",
    "    # The list is not empty\n",
    "    while len(point_list):\n",
    "\n",
    "        # Get a point from the list\n",
    "        this_point = point_list[-1]\n",
    "        point_list = point_list[:-1]\n",
    "        \n",
    "        x = this_point[0]\n",
    "        y = this_point[1]\n",
    "        pixel_value = anImage[y][x]\n",
    "                                                                                                                            \n",
    "        # Visit the point\n",
    "        visited_matrix[y][x] = anInValue\n",
    "\n",
    "        # for each neighbour of this_point\n",
    "        for j in range(y-1, y+2):\n",
    "\n",
    "            # vertical index is valid\n",
    "            if 0 <= j and j < anImage.shape[0]:\n",
    "            \n",
    "                for i in range(x-1, x+2):\n",
    "                    \n",
    "                    # hozirontal index is valid\n",
    "                    if 0 <= i and i < anImage.shape[1]:\n",
    "\n",
    "                        neighbour_value = float(anImage[j, i])\n",
    "                        neighbour_visited = visited_matrix[j, i]\n",
    "                        \n",
    "                        if not neighbour_visited and \\\n",
    "                            abs(neighbour_value - pixel_value) <= (tolerance / 100.0 * 255.0): # neighbour is similar to this_point\n",
    "\n",
    "                            point_list.append([i, j])\n",
    "\n",
    "    return visited_matrix"
   ]
  },
  {
   "cell_type": "markdown",
   "metadata": {},
   "source": [
    "## Segment the input"
   ]
  },
  {
   "cell_type": "code",
   "execution_count": 8,
   "metadata": {},
   "outputs": [],
   "source": [
    "segmented_image = regionGrowing(ct_slice, seed_set, 255, 2)"
   ]
  },
  {
   "cell_type": "markdown",
   "metadata": {},
   "source": [
    "## Display the result"
   ]
  },
  {
   "cell_type": "code",
   "execution_count": 9,
   "metadata": {},
   "outputs": [],
   "source": [
    "cv2.namedWindow(\"Segmentation\", cv2.WINDOW_AUTOSIZE) # Create a window\n",
    "cv2.imshow(\"Segmentation\", segmented_image) # Show our image inside the created window\n",
    "\n",
    "cv2.waitKey(0) # Wait for any keystroke in the window\n",
    "cv2.destroyAllWindows() # Destroy the created windows"
   ]
  },
  {
   "cell_type": "markdown",
   "metadata": {},
   "source": [
    "Here is the result\n",
    "\n",
    "![Segmentation](../opencv-cxx-region_growing2.png)"
   ]
  },
  {
   "cell_type": "markdown",
   "metadata": {},
   "source": [
    "## Apply the mask"
   ]
  },
  {
   "cell_type": "code",
   "execution_count": 11,
   "metadata": {},
   "outputs": [],
   "source": [
    "segmented_with_mask = cv2.bitwise_and(segmented_image, ct_slice)"
   ]
  },
  {
   "cell_type": "code",
   "execution_count": 13,
   "metadata": {},
   "outputs": [],
   "source": [
    "cv2.namedWindow(\"CT image\", cv2.WINDOW_GUI_EXPANDED) # Create a window\n",
    "cv2.imshow(\"CT image\", ct_slice) # Show our image inside the created window.\n",
    "\n",
    "cv2.namedWindow(\"Segmentation\", cv2.WINDOW_GUI_EXPANDED) # Create a window\n",
    "cv2.imshow(\"Segmentation\", segmented_image) # Show our image inside the created window.\n",
    "\n",
    "cv2.namedWindow(\"Just the cells\", cv2.WINDOW_GUI_EXPANDED) # Create a window\n",
    "cv2.imshow(\"Just the lungs\", segmented_with_mask) # Show our image inside the created window.\n",
    "\n",
    "cv2.waitKey(0) # Wait for any keystroke in the window\n",
    "cv2.destroyAllWindows() # Destroy all the created windows"
   ]
  },
  {
   "cell_type": "markdown",
   "metadata": {},
   "source": [
    "You'll see:\n",
    "\n",
    "![opencv-cxx-threshold4.png](../opencv-cxx-threshold4.png)\n",
    "\n",
    "The background has been removed."
   ]
  }
 ],
 "metadata": {
  "kernelspec": {
   "display_name": "Python 3 (ipykernel)",
   "language": "python",
   "name": "python3"
  },
  "language_info": {
   "codemirror_mode": {
    "name": "ipython",
    "version": 3
   },
   "file_extension": ".py",
   "mimetype": "text/x-python",
   "name": "python",
   "nbconvert_exporter": "python",
   "pygments_lexer": "ipython3",
   "version": "3.9.7"
  }
 },
 "nbformat": 4,
 "nbformat_minor": 4
}
