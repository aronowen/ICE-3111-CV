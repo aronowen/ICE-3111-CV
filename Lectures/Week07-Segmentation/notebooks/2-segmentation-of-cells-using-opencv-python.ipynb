{
 "cells": [
  {
   "cell_type": "markdown",
   "id": "8cebb637",
   "metadata": {},
   "source": [
    "# How to use OpenCV to segment the cells"
   ]
  },
  {
   "cell_type": "markdown",
   "id": "f678c444",
   "metadata": {},
   "source": [
    "## Package inclusion for Python"
   ]
  },
  {
   "cell_type": "code",
   "execution_count": 1,
   "id": "149ab35e",
   "metadata": {},
   "outputs": [],
   "source": [
    "%matplotlib inline\n",
    "\n",
    "import numpy as np\n",
    "import cv2\n",
    "from matplotlib import pyplot as plt"
   ]
  },
  {
   "cell_type": "markdown",
   "id": "5a48a431",
   "metadata": {},
   "source": [
    "## Read the image from a file on the disk and return a new matrix"
   ]
  },
  {
   "cell_type": "markdown",
   "id": "e10e14be",
   "metadata": {},
   "source": [
    "![Input image.](../cells_greyscale.png)"
   ]
  },
  {
   "cell_type": "code",
   "execution_count": 2,
   "id": "ce50136a",
   "metadata": {},
   "outputs": [],
   "source": [
    "image = cv2.imread(\"../cells_greyscale.png\", cv2.IMREAD_GRAYSCALE)"
   ]
  },
  {
   "cell_type": "markdown",
   "id": "e440c334",
   "metadata": {},
   "source": [
    "## Check for errors"
   ]
  },
  {
   "cell_type": "code",
   "execution_count": 3,
   "id": "4ab5398e",
   "metadata": {},
   "outputs": [],
   "source": [
    "# Check for failure\n",
    "if image is None: \n",
    "    raise Exception(\"Could not open or find the image\")"
   ]
  },
  {
   "cell_type": "markdown",
   "id": "b953f189",
   "metadata": {},
   "source": [
    "## Compute its histogram"
   ]
  },
  {
   "cell_type": "code",
   "execution_count": 4,
   "id": "93434f73",
   "metadata": {},
   "outputs": [],
   "source": [
    "histogram_size = 255\n",
    "\n",
    "histogram = cv2.calcHist(image, # Image to analyse\n",
    "                         [0], # Number of channels\n",
    "                         None, # Mask\n",
    "                         [histogram_size], # Number of bins\n",
    "                         [0, 255]) # Ranges"
   ]
  },
  {
   "cell_type": "markdown",
   "id": "b66964a0",
   "metadata": {},
   "source": [
    "## Display the image in a window"
   ]
  },
  {
   "cell_type": "code",
   "execution_count": 5,
   "id": "646176b2",
   "metadata": {},
   "outputs": [],
   "source": [
    "cv2.namedWindow(\"Cells\", cv2.WINDOW_GUI_EXPANDED) # Create a window\n",
    "cv2.imshow(\"Cells\", image) # Show our image inside the created window."
   ]
  },
  {
   "cell_type": "markdown",
   "id": "d3f606d8",
   "metadata": {},
   "source": [
    "## Plot the histogram"
   ]
  },
  {
   "cell_type": "code",
   "execution_count": 6,
   "id": "ee86203f",
   "metadata": {},
   "outputs": [
    {
     "data": {
      "image/png": "[encoded data removed]",
      "text/plain": [
       "<Figure size 432x288 with 1 Axes>"
      ]
     },
     "metadata": {
      "needs_background": "light"
     },
     "output_type": "display_data"
    }
   ],
   "source": [
    "plt.hist(histogram.ravel())\n",
    "plt.title('Intensity histogram')\n",
    "plt.show()"
   ]
  },
  {
   "cell_type": "code",
   "execution_count": 7,
   "id": "df67c25b",
   "metadata": {},
   "outputs": [],
   "source": [
    "cv2.waitKey(0) # Wait for any keystroke in the window\n",
    "cv2.destroyWindow(\"Cells\") # Destroy the created window"
   ]
  },
  {
   "cell_type": "markdown",
   "id": "5b0e3db2",
   "metadata": {},
   "source": [
    "A window will open:\n",
    "\n",
    "![OpenCV window](../opencv-cxx-load-display.png)"
   ]
  },
  {
   "cell_type": "markdown",
   "id": "5c04f771",
   "metadata": {},
   "source": [
    "## Binary threshold"
   ]
  },
  {
   "cell_type": "markdown",
   "id": "4d0f464d",
   "metadata": {},
   "source": [
    "A lot of information about the various thresholds technique in OpenCV is available at [https://docs.opencv.org/master/db/d8e/tutorial_threshold.html](https://docs.opencv.org/master/db/d8e/tutorial_threshold.html) on OpenCV's website. We want the background in black, and the cells in white. We use the inverse of the binary threshold then. See `THRESH_BINARY_INV` in [https://docs.opencv.org/master/d7/d1b/group__imgproc__misc.html#gaa9e58d2860d4afa658ef70a9b1115576](https://docs.opencv.org/master/d7/d1b/group__imgproc__misc.html#gaa9e58d2860d4afa658ef70a9b1115576)."
   ]
  },
  {
   "cell_type": "code",
   "execution_count": 8,
   "id": "348d998a",
   "metadata": {},
   "outputs": [],
   "source": [
    "threshold_value = 70 # Taken from the histogram\n",
    "threshold_type = cv2.THRESH_BINARY_INV\n",
    "max_value = 255\n",
    "max_type = 4\n",
    "\n",
    "segmentated = cv2.threshold(image,\n",
    "          threshold_value,\n",
    "          max_value,\n",
    "          threshold_type)[1]"
   ]
  },
  {
   "cell_type": "markdown",
   "id": "b22e6e5e",
   "metadata": {},
   "source": [
    "## Display the result"
   ]
  },
  {
   "cell_type": "code",
   "execution_count": 9,
   "id": "2f96b7bc",
   "metadata": {},
   "outputs": [],
   "source": [
    "cv2.namedWindow(\"Cells\", cv2.WINDOW_GUI_EXPANDED); # Create a window\n",
    "cv2.imshow(\"Cells\", image) # Show our image inside the created window.\n",
    "\n",
    "cv2.namedWindow(\"Segmentation\", cv2.WINDOW_GUI_EXPANDED) # Create a window\n",
    "cv2.imshow(\"Segmentation\", segmentated) # Show our image inside the created window.\n",
    "\n",
    "cv2.waitKey(0) # Wait for any keystroke in the window\n",
    "cv2.destroyAllWindows() # Destroy all the created windows"
   ]
  },
  {
   "cell_type": "markdown",
   "id": "17e1bb96",
   "metadata": {},
   "source": [
    "You'll see:\n",
    "\n",
    "![opencv-cxx-threshold1.png](../opencv-cxx-threshold1.png)\n",
    "\n",
    "which is not perfect. Remember mathematical morphology? Opening? Closing? Have a look at [https://docs.opencv.org/master/d3/dbe/tutorial_opening_closing_hats.html](https://docs.opencv.org/master/d3/dbe/tutorial_opening_closing_hats.html). \n",
    "\n",
    "And let's do some cleaning."
   ]
  },
  {
   "cell_type": "markdown",
   "id": "7e80ec85",
   "metadata": {},
   "source": [
    "## Cleaning"
   ]
  },
  {
   "cell_type": "code",
   "execution_count": 10,
   "id": "f3cb8c28",
   "metadata": {},
   "outputs": [],
   "source": [
    "element = cv2.getStructuringElement(cv2.MORPH_CROSS,\n",
    "                                    (5, 5), \n",
    "                                    (2, 2))\n",
    "\n",
    "segmentated = cv2.morphologyEx(segmentated, cv2.MORPH_CLOSE, element);\n",
    "segmentated = cv2.morphologyEx(segmentated, cv2.MORPH_OPEN, element);"
   ]
  },
  {
   "cell_type": "code",
   "execution_count": 11,
   "id": "dd354077",
   "metadata": {},
   "outputs": [],
   "source": [
    "cv2.namedWindow(\"Cells\", cv2.WINDOW_GUI_EXPANDED) # Create a window\n",
    "cv2.imshow(\"Cells\", image) # Show our image inside the created window.\n",
    "\n",
    "cv2.namedWindow(\"Segmentation\", cv2.WINDOW_GUI_EXPANDED) # Create a window\n",
    "cv2.imshow(\"Segmentation\", segmentated) # Show our image inside the created window.\n",
    "\n",
    "cv2.waitKey(0) # Wait for any keystroke in the window\n",
    "cv2.destroyAllWindows() # Destroy all the created windows"
   ]
  },
  {
   "cell_type": "markdown",
   "id": "66cad344",
   "metadata": {},
   "source": [
    "You'll see:\n",
    "\n",
    "![opencv-cxx-threshold2.png](../opencv-cxx-threshold2.png)\n",
    "\n",
    "which is much better than the previous one."
   ]
  },
  {
   "cell_type": "markdown",
   "id": "cf2f641e",
   "metadata": {},
   "source": [
    "## Apply the mask"
   ]
  },
  {
   "cell_type": "markdown",
   "id": "e6d2390e",
   "metadata": {},
   "source": [
    "The threshold provide a binary mask. "
   ]
  },
  {
   "cell_type": "code",
   "execution_count": 12,
   "id": "f2d6b534",
   "metadata": {},
   "outputs": [],
   "source": [
    "image_of_cells = cv2.bitwise_and(segmentated, image)"
   ]
  },
  {
   "cell_type": "code",
   "execution_count": 13,
   "id": "90adbaf5",
   "metadata": {},
   "outputs": [],
   "source": [
    "cv2.namedWindow(\"Cells\", cv2.WINDOW_GUI_EXPANDED) # Create a window\n",
    "cv2.imshow(\"Cells\", image) # Show our image inside the created window.\n",
    "\n",
    "cv2.namedWindow(\"Segmentation\", cv2.WINDOW_GUI_EXPANDED) # Create a window\n",
    "cv2.imshow(\"Segmentation\", segmentated) # Show our image inside the created window.\n",
    "\n",
    "cv2.namedWindow(\"Just the cells\", cv2.WINDOW_GUI_EXPANDED) # Create a window\n",
    "cv2.imshow(\"Just the cells\", image_of_cells) # Show our image inside the created window.\n",
    "\n",
    "cv2.waitKey(0) # Wait for any keystroke in the window\n",
    "cv2.destroyAllWindows() # Destroy all the created windows"
   ]
  },
  {
   "cell_type": "markdown",
   "id": "94b63cce",
   "metadata": {},
   "source": [
    "You'll see:\n",
    "\n",
    "![opencv-cxx-threshold3.png](../opencv-cxx-threshold3.png)\n",
    "\n",
    "The background has been removed."
   ]
  }
 ],
 "metadata": {
  "kernelspec": {
   "display_name": "Python 3 (ipykernel)",
   "language": "python",
   "name": "python3"
  },
  "language_info": {
   "codemirror_mode": {
    "name": "ipython",
    "version": 3
   },
   "file_extension": ".py",
   "mimetype": "text/x-python",
   "name": "python",
   "nbconvert_exporter": "python",
   "pygments_lexer": "ipython3",
   "version": "3.9.7"
  }
 },
 "nbformat": 4,
 "nbformat_minor": 5
}
